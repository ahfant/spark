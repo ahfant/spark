{
 "cells": [
  {
   "cell_type": "markdown",
   "metadata": {},
   "source": [
    "# Basic Configuration\n",
    "\n",
    "## Required installations\n",
    "1. Java\n",
    "    - download from http://www.oracle.com/technetwork/java/javase/downloads/index.html\n",
    "    - install using the downloaded executable file\n",
    "    - install Java to a different path name instead of *Program Files* due to issues relating to the additional whitespace\n",
    "2. Anaconda\n",
    "    - download from https://www.anaconda.com/download/\n",
    "    - install using the downloaded executable file\n",
    "3. Apache Spark \n",
    "    - download from https://spark.apache.org/downloads.html\n",
    "    - unzip to a new folder e.g. *C:\\spark*\n",
    "4. Apache Hadoop \n",
    "    - only *winutils.exe* is required\n",
    "    - download from https://github.com/steveloughran/winutils\n",
    "    - create a new folder e.g. *C:\\hadoop\\bin* where this file should be placed in\n",
    "    - Run command prompt as Adminstrator and execute\n",
    "    ```bash\n",
    "    winutils.exe chmod 777 \\tmp\\hive\n",
    "    ```\n",
    "5. Findspark\n",
    "    - a utility to locate and initialize pyspark\n",
    "    - install using\n",
    "    ```bash\n",
    "    conda install -c conda-forge findspark\n",
    "    ```\n",
    "\n",
    "## Environment variables\n",
    "- HADOOP_HOME = *path\\to\\hadoop*\n",
    "- SPARK_HOME = *path\\to\\spark*\n",
    "- JAVA_HOME = *path\\to\\JavaJDK*"
   ]
  },
  {
   "cell_type": "markdown",
   "metadata": {
    "collapsed": true
   },
   "source": [
    "# Import base packages"
   ]
  },
  {
   "cell_type": "code",
   "execution_count": 1,
   "metadata": {},
   "outputs": [],
   "source": [
    "import sys, os, shutil\n",
    "import findspark\n",
    "# use findspark to locate and initialize pyspark before importing pyspark\n",
    "findspark.init()\n",
    "import pyspark"
   ]
  },
  {
   "cell_type": "markdown",
   "metadata": {},
   "source": [
    "# Check environment"
   ]
  },
  {
   "cell_type": "code",
   "execution_count": 2,
   "metadata": {},
   "outputs": [
    {
     "name": "stdout",
     "output_type": "stream",
     "text": [
      "Python Version: 3.6.3 |Anaconda, Inc.| (default, Oct 15 2017, 03:27:45) [MSC v.1900 64 bit (AMD64)]\n",
      "Spark Version: 2.1.1+hadoop2.7\n"
     ]
    }
   ],
   "source": [
    "print(\"Python Version:\", sys.version)\n",
    "print(\"Spark Version:\", pyspark.__version__)"
   ]
  },
  {
   "cell_type": "markdown",
   "metadata": {},
   "source": [
    "# Example 1: Calculate value of Pi\n",
    "\n",
    "Adapted from https://github.com/apache/spark/blob/master/examples/src/main/python/pi.py"
   ]
  },
  {
   "cell_type": "code",
   "execution_count": 3,
   "metadata": {},
   "outputs": [
    {
     "name": "stdout",
     "output_type": "stream",
     "text": [
      "Pi is roughly 3.139252\n"
     ]
    }
   ],
   "source": [
    "from random import random\n",
    "from operator import add\n",
    "from pyspark.sql import SparkSession\n",
    "\n",
    "def f(_):\n",
    "    x = random() * 2 - 1\n",
    "    y = random() * 2 - 1\n",
    "    return 1 if x ** 2 + y ** 2 <= 1 else 0\n",
    "    \n",
    "spark = SparkSession \\\n",
    "        .builder \\\n",
    "        .appName(\"PythonPi\") \\\n",
    "        .getOrCreate()\n",
    "\n",
    "partitions = 10\n",
    "num_samples = 1000000\n",
    "\n",
    "count = spark.sparkContext.parallelize(range(1, num_samples + 1), partitions).map(f).reduce(add)\n",
    "\n",
    "print(\"Pi is roughly %f\" % (4.0 * count / num_samples))\n",
    "\n",
    "spark.stop()"
   ]
  },
  {
   "cell_type": "markdown",
   "metadata": {},
   "source": [
    "# Example 2: Perform Binary Classification using Decision Tree\n",
    "\n",
    "Adapted from https://github.com/apache/spark/blob/master/examples/src/main/python/mllib/decision_tree_classification_example.py"
   ]
  },
  {
   "cell_type": "code",
   "execution_count": 4,
   "metadata": {},
   "outputs": [
    {
     "name": "stdout",
     "output_type": "stream",
     "text": [
      "Test Error = 0.041666666666666664\n",
      "Learned classification tree model:\n",
      "DecisionTreeModel classifier of depth 2 with 5 nodes\n",
      "  If (feature 406 <= 72.0)\n",
      "   If (feature 100 <= 165.0)\n",
      "    Predict: 0.0\n",
      "   Else (feature 100 > 165.0)\n",
      "    Predict: 1.0\n",
      "  Else (feature 406 > 72.0)\n",
      "   Predict: 1.0\n",
      "\n"
     ]
    }
   ],
   "source": [
    "from pyspark import SparkContext\n",
    "\n",
    "from pyspark.mllib.tree import DecisionTree, DecisionTreeModel\n",
    "from pyspark.mllib.util import MLUtils\n",
    "\n",
    "sc = SparkContext(appName=\"PythonDecisionTreeClassificationExample\")\n",
    "\n",
    "# Load and parse the data file into an RDD of LabeledPoint.\n",
    "data = MLUtils.loadLibSVMFile(sc, 'data/sample_libsvm_data.txt')\n",
    "\n",
    "# Split the data into training and test sets (30% held out for testing)\n",
    "(trainingData, testData) = data.randomSplit([0.7, 0.3])\n",
    "    \n",
    "# Train a DecisionTree model.\n",
    "# Empty categoricalFeaturesInfo indicates all features are continuous.\n",
    "model = DecisionTree.trainClassifier(trainingData, numClasses=2, categoricalFeaturesInfo={},\n",
    "                                    impurity='gini', maxDepth=5, maxBins=32)\n",
    "\n",
    "# Evaluate model on test instances and compute test error\n",
    "predictions = model.predict(testData.map(lambda x: x.features))\n",
    "labelsAndPredictions = testData.map(lambda lp: lp.label).zip(predictions)\n",
    "testErr = labelsAndPredictions.filter(\n",
    "        lambda lp: lp[0] != lp[1]).count() / float(testData.count())\n",
    "\n",
    "print('Test Error = ' + str(testErr))\n",
    "print('Learned classification tree model:')\n",
    "print(model.toDebugString())\n",
    "\n",
    "# Save model (delete previous model if exists)\n",
    "if os.path.exists(\"model/myDecisionTreeClassificationModel\"):\n",
    "    shutil.rmtree(\"model/myDecisionTreeClassificationModel\")\n",
    "model.save(sc, \"model/myDecisionTreeClassificationModel\")\n",
    "\n",
    "# load model\n",
    "sameModel = DecisionTreeModel.load(sc, \"model/myDecisionTreeClassificationModel\")\n",
    "    \n",
    "sc.stop()"
   ]
  }
 ],
 "metadata": {
  "kernelspec": {
   "display_name": "Python 3",
   "language": "python",
   "name": "python3"
  },
  "language_info": {
   "codemirror_mode": {
    "name": "ipython",
    "version": 3
   },
   "file_extension": ".py",
   "mimetype": "text/x-python",
   "name": "python",
   "nbconvert_exporter": "python",
   "pygments_lexer": "ipython3",
   "version": "3.6.3"
  }
 },
 "nbformat": 4,
 "nbformat_minor": 2
}
