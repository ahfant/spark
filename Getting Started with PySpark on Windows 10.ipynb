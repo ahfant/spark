{
 "cells": [
  {
   "cell_type": "markdown",
   "metadata": {},
   "source": [
    "# Basic Configuration\n",
    "\n",
    "## Required installations\n",
    "1. Java\n",
    "    - download from http://www.oracle.com/technetwork/java/javase/downloads/index.html\n",
    "    - install using the downloaded executable file\n",
    "    - install Java to a different path name instead of *Program Files* due to issues relating to the additional whitespace\n",
    "2. Anaconda\n",
    "    - download from https://www.anaconda.com/download/\n",
    "    - install using the downloaded executable file\n",
    "3. Apache Spark \n",
    "    - download from https://spark.apache.org/downloads.html\n",
    "    - unzip to a new folder e.g. *C:\\spark*\n",
    "4. Apache Hadoop \n",
    "    - only *winutils.exe* is required\n",
    "    - download from https://github.com/steveloughran/winutils\n",
    "    - create a new folder e.g. *C:\\hadoop\\bin* where this file should be placed in\n",
    "    - Run command prompt as Adminstrator and execute\n",
    "    ```bash\n",
    "    winutils.exe chmod 777 \\tmp\\hive\n",
    "    ```\n",
    "5. Findspark\n",
    "    - a utility to locate and initialize pyspark\n",
    "    - install using\n",
    "    ```bash\n",
    "    conda install -c conda-forge findspark\n",
    "    ```\n",
    "\n",
    "## Environment variables\n",
    "- HADOOP_HOME = *path\\to\\hadoop*\n",
    "- SPARK_HOME = *path\\to\\spark*\n",
    "- JAVA_HOME = *path\\to\\JavaJDK*"
   ]
  },
  {
   "cell_type": "markdown",
   "metadata": {
    "collapsed": true
   },
   "source": [
    "# Import base packages"
   ]
  },
  {
   "cell_type": "code",
   "execution_count": 1,
   "metadata": {
    "collapsed": true
   },
   "outputs": [],
   "source": [
    "import sys, os, shutil\n",
    "import findspark\n",
    "# use findspark to locate and initialize pyspark before importing pyspark\n",
    "findspark.init()\n",
    "import pyspark"
   ]
  },
  {
   "cell_type": "markdown",
   "metadata": {},
   "source": [
    "# Check environment"
   ]
  },
  {
   "cell_type": "code",
   "execution_count": 2,
   "metadata": {},
   "outputs": [
    {
     "name": "stdout",
     "output_type": "stream",
     "text": [
      "Python Version: 3.6.3 |Anaconda, Inc.| (default, Oct 15 2017, 03:27:45) [MSC v.1900 64 bit (AMD64)]\n",
      "Spark Version: 2.1.1+hadoop2.7\n"
     ]
    }
   ],
   "source": [
    "print(\"Python Version:\", sys.version)\n",
    "print(\"Spark Version:\", pyspark.__version__)"
   ]
  },
  {
   "cell_type": "markdown",
   "metadata": {},
   "source": [
    "# Example 1: Calculate value of Pi\n",
    "\n",
    "Adapted from https://github.com/apache/spark/blob/master/examples/src/main/python/pi.py"
   ]
  },
  {
   "cell_type": "code",
   "execution_count": 3,
   "metadata": {},
   "outputs": [
    {
     "name": "stdout",
     "output_type": "stream",
     "text": [
      "Pi is roughly 3.132000\n"
     ]
    }
   ],
   "source": [
    "from random import random\n",
    "from operator import add\n",
    "from pyspark.sql import SparkSession\n",
    "\n",
    "def f(_):\n",
    "    x = random() * 2 - 1\n",
    "    y = random() * 2 - 1\n",
    "    return 1 if x ** 2 + y ** 2 <= 1 else 0\n",
    "    \n",
    "spark = SparkSession \\\n",
    "        .builder \\\n",
    "        .appName(\"PythonPi\") \\\n",
    "        .getOrCreate()\n",
    "\n",
    "partitions = 10\n",
    "num_samples = 10000\n",
    "\n",
    "count = spark.sparkContext.parallelize(range(1, num_samples + 1), partitions).map(f).reduce(add)\n",
    "\n",
    "print(\"Pi is roughly %f\" % (4.0 * count / num_samples))\n",
    "\n",
    "spark.stop()"
   ]
  },
  {
   "cell_type": "markdown",
   "metadata": {},
   "source": [
    "# Example 2A: Perform Binary Classification using Decision Tree\n",
    "\n",
    "Adapted from https://github.com/apache/spark/blob/master/examples/src/main/python/ml/decision_tree_classification_example.py"
   ]
  },
  {
   "cell_type": "code",
   "execution_count": 4,
   "metadata": {},
   "outputs": [
    {
     "name": "stdout",
     "output_type": "stream",
     "text": [
      "+----------+------------+--------------------+\n",
      "|prediction|indexedLabel|            features|\n",
      "+----------+------------+--------------------+\n",
      "|       1.0|         1.0|(692,[95,96,97,12...|\n",
      "|       1.0|         1.0|(692,[98,99,100,1...|\n",
      "|       1.0|         1.0|(692,[100,101,102...|\n",
      "|       1.0|         1.0|(692,[124,125,126...|\n",
      "|       1.0|         1.0|(692,[127,128,129...|\n",
      "+----------+------------+--------------------+\n",
      "only showing top 5 rows\n",
      "\n",
      "Test set accuracy = 0.9642857142857143\n",
      "DecisionTreeClassificationModel (uid=DecisionTreeClassifier_4141bc281b063407d90d) of depth 1 with 3 nodes\n",
      "  If (feature 434 <= 0.0)\n",
      "   Predict: 1.0\n",
      "  Else (feature 434 > 0.0)\n",
      "   Predict: 0.0\n",
      "\n"
     ]
    }
   ],
   "source": [
    "from pyspark.ml import Pipeline\n",
    "from pyspark.ml.classification import DecisionTreeClassifier\n",
    "from pyspark.ml.feature import StringIndexer, VectorIndexer\n",
    "from pyspark.ml.evaluation import MulticlassClassificationEvaluator\n",
    "\n",
    "from pyspark.sql import SparkSession\n",
    "\n",
    "spark = SparkSession\\\n",
    "        .builder\\\n",
    "        .appName(\"DecisionTreeBinaryClassificationExample\")\\\n",
    "        .getOrCreate()\n",
    "\n",
    "data = spark.read.format(\"libsvm\").load(\"data/sample_libsvm_data.txt\")\n",
    "\n",
    "# Index labels, adding metadata to the label column.\n",
    "# Fit on whole dataset to include all labels in index.\n",
    "labelIndexer = StringIndexer(inputCol=\"label\", outputCol=\"indexedLabel\").fit(data)\n",
    "\n",
    "# Automatically identify categorical features, and index them.\n",
    "# We specify maxCategories so features with > 4 distinct values are treated as continuous.\n",
    "featureIndexer =\\\n",
    "    VectorIndexer(inputCol=\"features\", outputCol=\"indexedFeatures\", maxCategories=4).fit(data)\n",
    "\n",
    "# Split the data into training and test sets (30% held out for testing)\n",
    "(trainingData, testData) = data.randomSplit([0.7, 0.3], 1234)\n",
    "\n",
    "# Create a DecisionTree model.\n",
    "dt = DecisionTreeClassifier(labelCol=\"indexedLabel\", featuresCol=\"indexedFeatures\")\n",
    "\n",
    "# Chain indexers and tree in a Pipeline\n",
    "pipeline = Pipeline(stages=[labelIndexer, featureIndexer, dt])\n",
    "\n",
    "# Train model.  This also runs the indexers.\n",
    "model = pipeline.fit(trainingData)\n",
    "\n",
    "# Make predictions.\n",
    "predictions = model.transform(testData)\n",
    "\n",
    "# Select example rows to display.\n",
    "predictions.select(\"prediction\", \"indexedLabel\", \"features\").show(5)\n",
    "\n",
    "# Select (prediction, true label) and compute accuracy\n",
    "evaluator = MulticlassClassificationEvaluator(\n",
    "                labelCol=\"indexedLabel\", predictionCol=\"prediction\", metricName=\"accuracy\")\n",
    "accuracy = evaluator.evaluate(predictions)\n",
    "print(\"Test set accuracy = \" + str(accuracy))\n",
    "\n",
    "treeModel = model.stages[2]\n",
    "\n",
    "# summary only\n",
    "print(treeModel.toDebugString)\n",
    "\n",
    "spark.stop()"
   ]
  },
  {
   "cell_type": "markdown",
   "metadata": {},
   "source": [
    "# Example 2B: Perform Multiclass Classification using Decision Tree"
   ]
  },
  {
   "cell_type": "code",
   "execution_count": 5,
   "metadata": {},
   "outputs": [
    {
     "name": "stdout",
     "output_type": "stream",
     "text": [
      "+----------+------------+--------------------+\n",
      "|prediction|indexedLabel|            features|\n",
      "+----------+------------+--------------------+\n",
      "|       2.0|         1.0|(4,[0,1,2,3],[-0....|\n",
      "|       2.0|         1.0|(4,[0,1,2,3],[-0....|\n",
      "|       1.0|         1.0|(4,[0,1,2,3],[-0....|\n",
      "|       2.0|         1.0|(4,[0,1,2,3],[-0....|\n",
      "|       1.0|         1.0|(4,[0,1,2,3],[-0....|\n",
      "+----------+------------+--------------------+\n",
      "only showing top 5 rows\n",
      "\n",
      "Test set accuracy = 0.9215686274509803\n",
      "DecisionTreeClassificationModel (uid=DecisionTreeClassifier_4ef0987fa2e49c6e229a) of depth 4 with 13 nodes\n",
      "  If (feature 2 <= -0.694915)\n",
      "   Predict: 0.0\n",
      "  Else (feature 2 > -0.694915)\n",
      "   If (feature 2 <= 0.322034)\n",
      "    If (feature 3 <= 0.25)\n",
      "     Predict: 2.0\n",
      "    Else (feature 3 > 0.25)\n",
      "     If (feature 0 <= -0.111111)\n",
      "      Predict: 2.0\n",
      "     Else (feature 0 > -0.111111)\n",
      "      Predict: 1.0\n",
      "   Else (feature 2 > 0.322034)\n",
      "    If (feature 3 <= 0.25)\n",
      "     If (feature 0 <= -0.0555556)\n",
      "      Predict: 2.0\n",
      "     Else (feature 0 > -0.0555556)\n",
      "      Predict: 1.0\n",
      "    Else (feature 3 > 0.25)\n",
      "     Predict: 1.0\n",
      "\n"
     ]
    }
   ],
   "source": [
    "from pyspark.ml import Pipeline\n",
    "from pyspark.ml.classification import DecisionTreeClassifier\n",
    "from pyspark.ml.feature import StringIndexer, VectorIndexer\n",
    "from pyspark.ml.evaluation import MulticlassClassificationEvaluator\n",
    "\n",
    "from pyspark.sql import SparkSession\n",
    "\n",
    "spark = SparkSession\\\n",
    "        .builder\\\n",
    "        .appName(\"DecisionTreeMulticlassClassificationExample\")\\\n",
    "        .getOrCreate()\n",
    "\n",
    "data = spark.read.format(\"libsvm\").load(\"data/sample_multiclass_classification_data.txt\")\n",
    "\n",
    "# Index labels, adding metadata to the label column.\n",
    "# Fit on whole dataset to include all labels in index.\n",
    "labelIndexer = StringIndexer(inputCol=\"label\", outputCol=\"indexedLabel\").fit(data)\n",
    "\n",
    "# Automatically identify categorical features, and index them.\n",
    "# We specify maxCategories so features with > 4 distinct values are treated as continuous.\n",
    "featureIndexer =\\\n",
    "    VectorIndexer(inputCol=\"features\", outputCol=\"indexedFeatures\", maxCategories=4).fit(data)\n",
    "\n",
    "# Split the data into training and test sets (40% held out for testing)\n",
    "(trainingData, testData) = data.randomSplit([0.6, 0.4], 1234)\n",
    "\n",
    "# Create a DecisionTree model.\n",
    "dt = DecisionTreeClassifier(labelCol=\"indexedLabel\", featuresCol=\"indexedFeatures\")\n",
    "\n",
    "# Chain indexers and tree in a Pipeline\n",
    "pipeline = Pipeline(stages=[labelIndexer, featureIndexer, dt])\n",
    "\n",
    "# Train model.  This also runs the indexers.\n",
    "model = pipeline.fit(trainingData)\n",
    "\n",
    "# Make predictions.\n",
    "predictions = model.transform(testData)\n",
    "\n",
    "# Select example rows to display.\n",
    "predictions.select(\"prediction\", \"indexedLabel\", \"features\").show(5)\n",
    "\n",
    "# Select (prediction, true label) and compute accuracy\n",
    "evaluator = MulticlassClassificationEvaluator(\n",
    "                labelCol=\"indexedLabel\", predictionCol=\"prediction\", metricName=\"accuracy\")\n",
    "accuracy = evaluator.evaluate(predictions)\n",
    "print(\"Test set accuracy = \" + str(accuracy))\n",
    "\n",
    "treeModel = model.stages[2]\n",
    "\n",
    "# summary only\n",
    "print(treeModel.toDebugString)\n",
    "\n",
    "spark.stop()"
   ]
  },
  {
   "cell_type": "markdown",
   "metadata": {},
   "source": [
    "# Example 3: Perform Multiclass Classification using Multilayer Perceptron\n",
    "Adapted from https://github.com/apache/spark/blob/master/examples/src/main/python/ml/multilayer_perceptron_classification.py"
   ]
  },
  {
   "cell_type": "code",
   "execution_count": 6,
   "metadata": {},
   "outputs": [
    {
     "name": "stdout",
     "output_type": "stream",
     "text": [
      "+----------+-----+--------------------+\n",
      "|prediction|label|            features|\n",
      "+----------+-----+--------------------+\n",
      "|       2.0|  0.0|(4,[0,1,2,3],[-0....|\n",
      "|       0.0|  0.0|(4,[0,1,2,3],[-0....|\n",
      "|       0.0|  0.0|(4,[0,1,2,3],[-0....|\n",
      "|       2.0|  0.0|(4,[0,1,2,3],[-0....|\n",
      "|       2.0|  0.0|(4,[0,1,2,3],[-0....|\n",
      "+----------+-----+--------------------+\n",
      "only showing top 5 rows\n",
      "\n",
      "Test set accuracy = 0.9019607843137255\n"
     ]
    }
   ],
   "source": [
    "from pyspark.ml.classification import MultilayerPerceptronClassifier\n",
    "from pyspark.ml.evaluation import MulticlassClassificationEvaluator\n",
    "\n",
    "from pyspark.sql import SparkSession\n",
    "\n",
    "spark = SparkSession\\\n",
    "        .builder\\\n",
    "        .appName(\"multilayer_perceptron_classification_example\")\\\n",
    "        .getOrCreate()\n",
    "        \n",
    " # Load training data\n",
    "data = spark.read.format(\"libsvm\").load(\"data/sample_multiclass_classification_data.txt\")\n",
    "\n",
    "# Split the data into train and test\n",
    "splits = data.randomSplit([0.6, 0.4], 1234)\n",
    "train = splits[0]\n",
    "test = splits[1]\n",
    "\n",
    "# specify layers for the neural network:\n",
    "# input layer of size 4 (features), two intermediate of size 5 and 4\n",
    "# and output of size 3 (classes)\n",
    "layers = [4, 5, 4, 3]\n",
    "\n",
    "# create the trainer and set its parameters\n",
    "trainer = MultilayerPerceptronClassifier(maxIter=100, layers=layers, blockSize=128, seed=1234)\n",
    "\n",
    "# train the model\n",
    "model = trainer.fit(train)\n",
    "\n",
    "# compute accuracy on the test set\n",
    "predictions = model.transform(test)\n",
    "\n",
    "# Select example rows to display.\n",
    "predictions.select(\"prediction\", \"label\", \"features\").show(5)\n",
    "\n",
    "# Select (prediction, true label) and compute accuracy\n",
    "evaluator = MulticlassClassificationEvaluator(\n",
    "                labelCol=\"label\", predictionCol=\"prediction\", metricName=\"accuracy\")\n",
    "accuracy = evaluator.evaluate(predictions)\n",
    "print(\"Test set accuracy = \" + str(accuracy))\n",
    "\n",
    "spark.stop()"
   ]
  },
  {
   "cell_type": "markdown",
   "metadata": {},
   "source": [
    "# Example 4: End-to-End Workflow using Decision Tree\n",
    "Using mushroom dataset from https://archive.ics.uci.edu/ml/datasets/Mushroom\n",
    "\n",
    "This example describes the basic workflow consisting of the following phases:\n",
    "\n",
    "1. Prepare Spark Environment\n",
    "2. Prepare Data\n",
    "    1. Read Data\n",
    "    2. Review Data\n",
    "    3. Transform Data\n",
    "        1. Transform Label\n",
    "        2. Transform Features\n",
    "        3. Assemble Features\n",
    "3. Create Train-Test Split\n",
    "4. Create Machine Learning Object\n",
    "5. Create Pipeline\n",
    "6. Train Machine Learning Object\n",
    "7. Evaluate Trained Machine Learning Object\n",
    "    1. Perform Predictions\n",
    "    2. Compute Accuracy\n",
    "    3. Display Trained Model\n",
    "8. Stop Spark Session"
   ]
  },
  {
   "cell_type": "markdown",
   "metadata": {},
   "source": [
    "## 1. Prepare Spark Environment"
   ]
  },
  {
   "cell_type": "markdown",
   "metadata": {},
   "source": [
    "### Start Spark Session\n",
    "\n",
    "using https://spark.apache.org/docs/2.1.1/api/python/pyspark.sql.html#module-pyspark.sql"
   ]
  },
  {
   "cell_type": "code",
   "execution_count": 7,
   "metadata": {
    "collapsed": true
   },
   "outputs": [],
   "source": [
    "from pyspark.ml import Pipeline\n",
    "from pyspark.ml.classification import DecisionTreeClassifier\n",
    "from pyspark.ml.feature import StringIndexer, VectorIndexer, VectorAssembler\n",
    "from pyspark.ml.evaluation import MulticlassClassificationEvaluator\n",
    "\n",
    "from pyspark.sql import SparkSession\n",
    "\n",
    "spark = SparkSession\\\n",
    "        .builder\\\n",
    "        .appName(\"DecisionTreeBinaryClassificationExampleOnMushrooms\")\\\n",
    "        .getOrCreate()"
   ]
  },
  {
   "cell_type": "markdown",
   "metadata": {},
   "source": [
    "## 2. Prepare Data"
   ]
  },
  {
   "cell_type": "markdown",
   "metadata": {},
   "source": [
    "### 2.A. Read Data\n",
    "- data format: csv\n",
    "- header row: true\n",
    "- infer schema automatically: true\n",
    "\n",
    "using https://spark.apache.org/docs/2.1.1/api/python/pyspark.sql.html#module-pyspark.sql"
   ]
  },
  {
   "cell_type": "code",
   "execution_count": 8,
   "metadata": {
    "collapsed": true
   },
   "outputs": [],
   "source": [
    "# returns a DataFrame\n",
    "df = spark.read.format(\"csv\")\\\n",
    "            .option(\"header\", \"true\")\\\n",
    "            .option(\"inferSchema\", \"true\")\\\n",
    "            .load(\"data/mushrooms.csv\")"
   ]
  },
  {
   "cell_type": "markdown",
   "metadata": {},
   "source": [
    "### 2.B. Review Data\n",
    "using https://spark.apache.org/docs/2.1.0/api/python/pyspark.sql.html#pyspark.sql.DataFrame"
   ]
  },
  {
   "cell_type": "code",
   "execution_count": 9,
   "metadata": {},
   "outputs": [
    {
     "name": "stdout",
     "output_type": "stream",
     "text": [
      "Number of data rows: 8124\n"
     ]
    }
   ],
   "source": [
    "print(\"Number of data rows:\", df.count())"
   ]
  },
  {
   "cell_type": "code",
   "execution_count": 10,
   "metadata": {},
   "outputs": [
    {
     "name": "stdout",
     "output_type": "stream",
     "text": [
      "root\n",
      " |-- class: string (nullable = true)\n",
      " |-- cap-shape: string (nullable = true)\n",
      " |-- cap-surface: string (nullable = true)\n",
      " |-- cap-color: string (nullable = true)\n",
      " |-- bruises: string (nullable = true)\n",
      " |-- odor: string (nullable = true)\n",
      " |-- gill-attachment: string (nullable = true)\n",
      " |-- gill-spacing: string (nullable = true)\n",
      " |-- gill-size: string (nullable = true)\n",
      " |-- gill-color: string (nullable = true)\n",
      " |-- stalk-shape: string (nullable = true)\n",
      " |-- stalk-root: string (nullable = true)\n",
      " |-- stalk-surface-above-ring: string (nullable = true)\n",
      " |-- stalk-surface-below-ring: string (nullable = true)\n",
      " |-- stalk-color-above-ring: string (nullable = true)\n",
      " |-- stalk-color-below-ring: string (nullable = true)\n",
      " |-- veil-type: string (nullable = true)\n",
      " |-- veil-color: string (nullable = true)\n",
      " |-- ring-number: string (nullable = true)\n",
      " |-- ring-type: string (nullable = true)\n",
      " |-- spore-print-color: string (nullable = true)\n",
      " |-- population: string (nullable = true)\n",
      " |-- habitat: string (nullable = true)\n",
      "\n"
     ]
    }
   ],
   "source": [
    "df.printSchema() # or data.dtypes or df.columns"
   ]
  },
  {
   "cell_type": "code",
   "execution_count": 11,
   "metadata": {},
   "outputs": [
    {
     "name": "stdout",
     "output_type": "stream",
     "text": [
      "+-------+-----+---------+-----------+---------+\n",
      "|summary|class|cap-shape|cap-surface|cap-color|\n",
      "+-------+-----+---------+-----------+---------+\n",
      "|  count| 8124|     8124|       8124|     8124|\n",
      "|   mean| null|     null|       null|     null|\n",
      "| stddev| null|     null|       null|     null|\n",
      "|    min|    e|        b|          f|        b|\n",
      "|    max|    p|        x|          y|        y|\n",
      "+-------+-----+---------+-----------+---------+\n",
      "\n"
     ]
    }
   ],
   "source": [
    "df.describe(\"class\", \"cap-shape\", \"cap-surface\", \"cap-color\").show()"
   ]
  },
  {
   "cell_type": "code",
   "execution_count": 12,
   "metadata": {},
   "outputs": [
    {
     "data": {
      "text/plain": [
       "Row(class='p', cap-shape='x', cap-surface='s', cap-color='n', bruises='t', odor='p', gill-attachment='f', gill-spacing='c', gill-size='n', gill-color='k', stalk-shape='e', stalk-root='e', stalk-surface-above-ring='s', stalk-surface-below-ring='s', stalk-color-above-ring='w', stalk-color-below-ring='w', veil-type='p', veil-color='w', ring-number='o', ring-type='p', spore-print-color='k', population='s', habitat='u')"
      ]
     },
     "execution_count": 12,
     "metadata": {},
     "output_type": "execute_result"
    }
   ],
   "source": [
    "df.first() # or df.head(1) or df.show(1)"
   ]
  },
  {
   "cell_type": "markdown",
   "metadata": {},
   "source": [
    "### 2.C. Transform Data\n",
    "\n",
    "This is a three-step process:\n",
    "\n",
    "    (a) Transform label \n",
    "\n",
    "    (b) Transform features \n",
    "\n",
    "    (c) Assemble features\n",
    "\n",
    "- <b>pyspark.ml.feature.StringIndexer:</b> a label indexer that maps a string column of labels to an ML column of label indices.\n",
    "- <b>pyspark.ml.feature.VectorIndexer:</b> for indexing categorical feature columns in a dataset of Vector.\n",
    "- <b>pyspark.ml.feature.VectorAssembler:</b> a transformer that combines a given list of columns into a single vector column\n",
    "\n",
    "using https://spark.apache.org/docs/2.1.1/api/python/pyspark.ml.html#module-pyspark.ml.feature"
   ]
  },
  {
   "cell_type": "markdown",
   "metadata": {},
   "source": [
    "#### 2.C.a. Transform Label\n",
    "\n",
    "Using <b>StringIndexer</b> to index labels, adding metadata to the label column"
   ]
  },
  {
   "cell_type": "code",
   "execution_count": 13,
   "metadata": {
    "collapsed": true
   },
   "outputs": [],
   "source": [
    "labelIndexer = StringIndexer(inputCol=\"class\", outputCol=\"indexedLabel\")"
   ]
  },
  {
   "cell_type": "markdown",
   "metadata": {},
   "source": [
    "#### 2.C.b. Transform Features\n",
    "\n",
    "Using <b>StringIndexer</b> again because VectorIndexer does not allow strings"
   ]
  },
  {
   "cell_type": "code",
   "execution_count": 14,
   "metadata": {
    "collapsed": true
   },
   "outputs": [],
   "source": [
    "categorical_columns = df.columns[1:]\n",
    "\n",
    "featureIndexers = [StringIndexer(inputCol=col, outputCol='stringindexed_' + col) for col in categorical_columns]"
   ]
  },
  {
   "cell_type": "markdown",
   "metadata": {},
   "source": [
    "#### 2.C.c. Assemble Features\n",
    "\n",
    "Using <b>VectorAssembler</b> to combine features in a single vector column"
   ]
  },
  {
   "cell_type": "code",
   "execution_count": 15,
   "metadata": {
    "collapsed": true
   },
   "outputs": [],
   "source": [
    "inputFeatures = ['stringindexed_' + col for col in categorical_columns]\n",
    "\n",
    "assembler = VectorAssembler(\n",
    "                inputCols=inputFeatures,\n",
    "                outputCol=\"indexedFeatures\")"
   ]
  },
  {
   "cell_type": "markdown",
   "metadata": {},
   "source": [
    "## 3. Create Train-Test Split\n",
    "- Split the data into training and test sets (30% held out for testing)\n",
    "- Use seed=1234 for reproducibility\n",
    "\n",
    "using https://spark.apache.org/docs/2.1.1/api/python/pyspark.sql.html#pyspark.sql.DataFrame.randomSplit"
   ]
  },
  {
   "cell_type": "code",
   "execution_count": 16,
   "metadata": {
    "collapsed": true
   },
   "outputs": [],
   "source": [
    "(trainingData, testData) = df.randomSplit([0.7, 0.3], 1234)"
   ]
  },
  {
   "cell_type": "markdown",
   "metadata": {},
   "source": [
    "## 4. Create Machine Learning Object\n",
    "- Create a <b>Decision Tree</b> model\n",
    "\n",
    "using https://spark.apache.org/docs/2.1.1/api/python/pyspark.ml.html#pyspark.ml.classification.DecisionTreeClassifier"
   ]
  },
  {
   "cell_type": "code",
   "execution_count": 17,
   "metadata": {
    "collapsed": true
   },
   "outputs": [],
   "source": [
    "clf = DecisionTreeClassifier(labelCol=\"indexedLabel\", featuresCol=\"indexedFeatures\")"
   ]
  },
  {
   "cell_type": "markdown",
   "metadata": {},
   "source": [
    "## 5. Create Pipeline\n",
    "Chain indexers and model in a Pipeline\n",
    "1. labelIndexer\n",
    "2. featureIndexers\n",
    "3. assembler\n",
    "4. clf\n",
    "\n",
    "using https://spark.apache.org/docs/2.1.1/api/python/pyspark.ml.html#pyspark.ml.Pipeline"
   ]
  },
  {
   "cell_type": "code",
   "execution_count": 18,
   "metadata": {
    "collapsed": true
   },
   "outputs": [],
   "source": [
    "pipeline = Pipeline(stages=[labelIndexer] + featureIndexers + [assembler, clf])"
   ]
  },
  {
   "cell_type": "markdown",
   "metadata": {},
   "source": [
    "## 6. Train Machine Learning Object\n",
    "- Execute the stages in the pipeline including featurization and model training on test data using <b>fit</b>\n",
    "\n",
    "using https://spark.apache.org/docs/2.1.1/api/python/pyspark.ml.html#pyspark.ml.Pipeline.fit"
   ]
  },
  {
   "cell_type": "code",
   "execution_count": 19,
   "metadata": {
    "collapsed": true
   },
   "outputs": [],
   "source": [
    "model = pipeline.fit(trainingData)"
   ]
  },
  {
   "cell_type": "markdown",
   "metadata": {},
   "source": [
    "## 7. Evaluate Trained Machine Learning Object\n",
    "(1) Perform predictions against the test data by using <b>transform</b>\n",
    "\n",
    "using https://spark.apache.org/docs/2.1.1/api/python/pyspark.ml.html#pyspark.ml.PipelineModel.transform"
   ]
  },
  {
   "cell_type": "code",
   "execution_count": 20,
   "metadata": {},
   "outputs": [
    {
     "name": "stdout",
     "output_type": "stream",
     "text": [
      "+----------+------------+--------------------+\n",
      "|prediction|indexedLabel|     indexedFeatures|\n",
      "+----------+------------+--------------------+\n",
      "|       0.0|         0.0|(22,[0,1,2,6,8,9,...|\n",
      "|       0.0|         0.0|(22,[0,1,2,6,8,9,...|\n",
      "|       0.0|         0.0|(22,[0,1,2,6,8,9,...|\n",
      "|       0.0|         0.0|(22,[0,1,2,6,8,9,...|\n",
      "|       0.0|         0.0|(22,[0,1,2,6,8,9,...|\n",
      "+----------+------------+--------------------+\n",
      "only showing top 5 rows\n",
      "\n"
     ]
    }
   ],
   "source": [
    "predictions = model.transform(testData)\n",
    "\n",
    "# Select example rows to display.\n",
    "predictions.select(\"prediction\", \"indexedLabel\", \"indexedFeatures\").show(5)"
   ]
  },
  {
   "cell_type": "markdown",
   "metadata": {},
   "source": [
    "(2) Compute accuracy against the test data using <b>Evaluator</b>\n",
    "\n",
    "using https://spark.apache.org/docs/2.1.1/api/python/pyspark.ml.html#pyspark.ml.evaluation.MulticlassClassificationEvaluator"
   ]
  },
  {
   "cell_type": "code",
   "execution_count": 21,
   "metadata": {},
   "outputs": [
    {
     "name": "stdout",
     "output_type": "stream",
     "text": [
      "Test set accuracy = 0.9987557030277893\n"
     ]
    }
   ],
   "source": [
    "evaluator = MulticlassClassificationEvaluator(\n",
    "                labelCol=\"indexedLabel\", predictionCol=\"prediction\", metricName=\"accuracy\")\n",
    "accuracy = evaluator.evaluate(predictions)\n",
    "print(\"Test set accuracy = \" + str(accuracy))"
   ]
  },
  {
   "cell_type": "markdown",
   "metadata": {},
   "source": [
    "(3) Display trained decision tree using <b>toDebugString</b>\n",
    "\n",
    "using https://spark.apache.org/docs/2.1.1/api/python/pyspark.ml.html#pyspark.ml.classification.DecisionTreeClassificationModel.toDebugString"
   ]
  },
  {
   "cell_type": "code",
   "execution_count": 22,
   "metadata": {},
   "outputs": [
    {
     "name": "stdout",
     "output_type": "stream",
     "text": [
      "DecisionTreeClassificationModel (uid=DecisionTreeClassifier_4a6caa8c22c7ca2acac7) of depth 5 with 13 nodes\n",
      "  If (feature 4 in {0.0,4.0,5.0,8.0})\n",
      "   If (feature 19 in {0.0,1.0,2.0,3.0,5.0,6.0,7.0,8.0})\n",
      "    If (feature 14 in {0.0,1.0,2.0,3.0,5.0,6.0})\n",
      "     If (feature 14 in {0.0,1.0,2.0,5.0,6.0})\n",
      "      If (feature 21 in {0.0,1.0,2.0,4.0,5.0,6.0})\n",
      "       Predict: 0.0\n",
      "      Else (feature 21 not in {0.0,1.0,2.0,4.0,5.0,6.0})\n",
      "       Predict: 0.0\n",
      "     Else (feature 14 not in {0.0,1.0,2.0,5.0,6.0})\n",
      "      If (feature 10 in {0.0})\n",
      "       Predict: 0.0\n",
      "      Else (feature 10 not in {0.0})\n",
      "       Predict: 1.0\n",
      "    Else (feature 14 not in {0.0,1.0,2.0,3.0,5.0,6.0})\n",
      "     Predict: 1.0\n",
      "   Else (feature 19 not in {0.0,1.0,2.0,3.0,5.0,6.0,7.0,8.0})\n",
      "    Predict: 1.0\n",
      "  Else (feature 4 not in {0.0,4.0,5.0,8.0})\n",
      "   Predict: 1.0\n",
      "\n"
     ]
    }
   ],
   "source": [
    "treeModel = model.stages[-1] # last stage in Pipeline\n",
    "# summary only\n",
    "print(treeModel.toDebugString)"
   ]
  },
  {
   "cell_type": "markdown",
   "metadata": {},
   "source": [
    "## 8. Stop Spark Session\n",
    "\n",
    "using https://spark.apache.org/docs/2.1.1/api/python/pyspark.sql.html#pyspark.sql.SparkSession.stop"
   ]
  },
  {
   "cell_type": "code",
   "execution_count": 23,
   "metadata": {
    "collapsed": true
   },
   "outputs": [],
   "source": [
    "spark.stop()"
   ]
  }
 ],
 "metadata": {
  "kernelspec": {
   "display_name": "Python 3",
   "language": "python",
   "name": "python3"
  },
  "language_info": {
   "codemirror_mode": {
    "name": "ipython",
    "version": 3
   },
   "file_extension": ".py",
   "mimetype": "text/x-python",
   "name": "python",
   "nbconvert_exporter": "python",
   "pygments_lexer": "ipython3",
   "version": "3.6.3"
  }
 },
 "nbformat": 4,
 "nbformat_minor": 2
}
